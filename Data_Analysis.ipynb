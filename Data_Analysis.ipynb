{
 "cells": [
  {
   "cell_type": "code",
   "execution_count": 3,
   "id": "5cc4c810",
   "metadata": {
    "ExecuteTime": {
     "end_time": "2024-03-23T05:33:50.093070Z",
     "start_time": "2024-03-23T05:33:49.826360Z"
    }
   },
   "outputs": [],
   "source": [
    "from ipl_parser import IPLParser\n",
    "from cricket_data_processor import CricketDataProcessor"
   ]
  },
  {
   "cell_type": "code",
   "execution_count": 4,
   "id": "08ed4307",
   "metadata": {
    "ExecuteTime": {
     "end_time": "2024-03-23T05:33:54.380007Z",
     "start_time": "2024-03-23T05:33:54.367881Z"
    }
   },
   "outputs": [],
   "source": [
    "Input_Filepath = 'D:\\\\Datasets\\\\IPL_2024\\\\RCB VS CSK'\n",
    "Output_FilePath = 'D:\\\\Datasets\\\\IPL_2024\\\\Data Files'\n",
    "stadium = 'MA Chidambaram Stadium, Chepauk, Chennai'\n",
    "\n",
    "parser = IPLParser(Input_Filepath, Output_FilePath,stadium)"
   ]
  },
  {
   "cell_type": "code",
   "execution_count": 5,
   "id": "6ad82bb7",
   "metadata": {
    "ExecuteTime": {
     "end_time": "2024-03-23T05:34:00.368837Z",
     "start_time": "2024-03-23T05:33:59.911399Z"
    }
   },
   "outputs": [],
   "source": [
    "data = parser.getMatchData()\n",
    "processor = CricketDataProcessor(data)\n",
    "\n",
    "mydata = processor.process_cricket_data()"
   ]
  },
  {
   "cell_type": "code",
   "execution_count": 6,
   "id": "d6b219e5",
   "metadata": {
    "ExecuteTime": {
     "end_time": "2024-03-23T05:34:12.520312Z",
     "start_time": "2024-03-23T05:34:12.502311Z"
    }
   },
   "outputs": [
    {
     "data": {
      "text/html": [
       "<div>\n",
       "<style scoped>\n",
       "    .dataframe tbody tr th:only-of-type {\n",
       "        vertical-align: middle;\n",
       "    }\n",
       "\n",
       "    .dataframe tbody tr th {\n",
       "        vertical-align: top;\n",
       "    }\n",
       "\n",
       "    .dataframe thead th {\n",
       "        text-align: right;\n",
       "    }\n",
       "</style>\n",
       "<table border=\"1\" class=\"dataframe\">\n",
       "  <thead>\n",
       "    <tr style=\"text-align: right;\">\n",
       "      <th></th>\n",
       "      <th>innings</th>\n",
       "      <th>over</th>\n",
       "      <th>ball</th>\n",
       "      <th>Batter</th>\n",
       "      <th>Bowler</th>\n",
       "      <th>Runs</th>\n",
       "      <th>Outcome</th>\n",
       "      <th>Batting Style</th>\n",
       "      <th>Bowling Style</th>\n",
       "      <th>comments</th>\n",
       "      <th>venue</th>\n",
       "    </tr>\n",
       "  </thead>\n",
       "  <tbody>\n",
       "    <tr>\n",
       "      <th>0</th>\n",
       "      <td>1</td>\n",
       "      <td>0</td>\n",
       "      <td>1</td>\n",
       "      <td>Virat Kohli</td>\n",
       "      <td>Deepak Chahar</td>\n",
       "      <td>1</td>\n",
       "      <td>1 run</td>\n",
       "      <td>Right-handed</td>\n",
       "      <td>Right-arm medium-fast</td>\n",
       "      <td>and he is off immediately, opening the face on...</td>\n",
       "      <td>MA Chidambaram Stadium, Chepauk, Chennai</td>\n",
       "    </tr>\n",
       "    <tr>\n",
       "      <th>1</th>\n",
       "      <td>1</td>\n",
       "      <td>0</td>\n",
       "      <td>1</td>\n",
       "      <td>Virat Kohli</td>\n",
       "      <td>Deepak Chahar</td>\n",
       "      <td>1</td>\n",
       "      <td>1 wide</td>\n",
       "      <td>Right-handed</td>\n",
       "      <td>Right-arm medium-fast</td>\n",
       "      <td>there is swing and good carry, but it has been...</td>\n",
       "      <td>MA Chidambaram Stadium, Chepauk, Chennai</td>\n",
       "    </tr>\n",
       "    <tr>\n",
       "      <th>2</th>\n",
       "      <td>1</td>\n",
       "      <td>0</td>\n",
       "      <td>2</td>\n",
       "      <td>Faf du Plessis</td>\n",
       "      <td>Deepak Chahar</td>\n",
       "      <td>0</td>\n",
       "      <td>no run</td>\n",
       "      <td>Right-handed</td>\n",
       "      <td>Right-arm medium-fast</td>\n",
       "      <td>outswinger again, starts from closer to off, l...</td>\n",
       "      <td>MA Chidambaram Stadium, Chepauk, Chennai</td>\n",
       "    </tr>\n",
       "    <tr>\n",
       "      <th>3</th>\n",
       "      <td>1</td>\n",
       "      <td>0</td>\n",
       "      <td>3</td>\n",
       "      <td>Faf du Plessis</td>\n",
       "      <td>Deepak Chahar</td>\n",
       "      <td>0</td>\n",
       "      <td>no run</td>\n",
       "      <td>Right-handed</td>\n",
       "      <td>Right-arm medium-fast</td>\n",
       "      <td>tries the inswinger. The line telegraphs it as...</td>\n",
       "      <td>MA Chidambaram Stadium, Chepauk, Chennai</td>\n",
       "    </tr>\n",
       "    <tr>\n",
       "      <th>4</th>\n",
       "      <td>1</td>\n",
       "      <td>0</td>\n",
       "      <td>4</td>\n",
       "      <td>Faf du Plessis</td>\n",
       "      <td>Deepak Chahar</td>\n",
       "      <td>0</td>\n",
       "      <td>no run</td>\n",
       "      <td>Right-handed</td>\n",
       "      <td>Right-arm medium-fast</td>\n",
       "      <td>back to outswing. On a good length, pitches in...</td>\n",
       "      <td>MA Chidambaram Stadium, Chepauk, Chennai</td>\n",
       "    </tr>\n",
       "  </tbody>\n",
       "</table>\n",
       "</div>"
      ],
      "text/plain": [
       "   innings  over  ball          Batter         Bowler  Runs Outcome  \\\n",
       "0        1     0     1     Virat Kohli  Deepak Chahar     1   1 run   \n",
       "1        1     0     1     Virat Kohli  Deepak Chahar     1  1 wide   \n",
       "2        1     0     2  Faf du Plessis  Deepak Chahar     0  no run   \n",
       "3        1     0     3  Faf du Plessis  Deepak Chahar     0  no run   \n",
       "4        1     0     4  Faf du Plessis  Deepak Chahar     0  no run   \n",
       "\n",
       "  Batting Style          Bowling Style  \\\n",
       "0  Right-handed  Right-arm medium-fast   \n",
       "1  Right-handed  Right-arm medium-fast   \n",
       "2  Right-handed  Right-arm medium-fast   \n",
       "3  Right-handed  Right-arm medium-fast   \n",
       "4  Right-handed  Right-arm medium-fast   \n",
       "\n",
       "                                            comments  \\\n",
       "0  and he is off immediately, opening the face on...   \n",
       "1  there is swing and good carry, but it has been...   \n",
       "2  outswinger again, starts from closer to off, l...   \n",
       "3  tries the inswinger. The line telegraphs it as...   \n",
       "4  back to outswing. On a good length, pitches in...   \n",
       "\n",
       "                                      venue  \n",
       "0  MA Chidambaram Stadium, Chepauk, Chennai  \n",
       "1  MA Chidambaram Stadium, Chepauk, Chennai  \n",
       "2  MA Chidambaram Stadium, Chepauk, Chennai  \n",
       "3  MA Chidambaram Stadium, Chepauk, Chennai  \n",
       "4  MA Chidambaram Stadium, Chepauk, Chennai  "
      ]
     },
     "execution_count": 6,
     "metadata": {},
     "output_type": "execute_result"
    }
   ],
   "source": [
    "mydata.head()"
   ]
  },
  {
   "cell_type": "code",
   "execution_count": 7,
   "id": "5ee2798a-e0ff-4015-87d7-7d64416f0f76",
   "metadata": {},
   "outputs": [
    {
     "name": "stdout",
     "output_type": "stream",
     "text": [
      "<class 'pandas.core.frame.DataFrame'>\n",
      "RangeIndex: 249 entries, 0 to 248\n",
      "Data columns (total 11 columns):\n",
      " #   Column         Non-Null Count  Dtype \n",
      "---  ------         --------------  ----- \n",
      " 0   innings        249 non-null    int64 \n",
      " 1   over           249 non-null    int64 \n",
      " 2   ball           249 non-null    int64 \n",
      " 3   Batter         249 non-null    object\n",
      " 4   Bowler         249 non-null    object\n",
      " 5   Runs           249 non-null    int64 \n",
      " 6   Outcome        249 non-null    object\n",
      " 7   Batting Style  249 non-null    object\n",
      " 8   Bowling Style  249 non-null    object\n",
      " 9   comments       249 non-null    object\n",
      " 10  venue          249 non-null    object\n",
      "dtypes: int64(4), object(7)\n",
      "memory usage: 21.5+ KB\n"
     ]
    }
   ],
   "source": [
    "mydata.info()"
   ]
  }
 ],
 "metadata": {
  "kernelspec": {
   "display_name": "Python 3 (ipykernel)",
   "language": "python",
   "name": "python3"
  },
  "language_info": {
   "codemirror_mode": {
    "name": "ipython",
    "version": 3
   },
   "file_extension": ".py",
   "mimetype": "text/x-python",
   "name": "python",
   "nbconvert_exporter": "python",
   "pygments_lexer": "ipython3",
   "version": "3.9.13"
  }
 },
 "nbformat": 4,
 "nbformat_minor": 5
}
