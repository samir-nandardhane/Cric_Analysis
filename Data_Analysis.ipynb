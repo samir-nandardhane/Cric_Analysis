{
 "cells": [
  {
   "cell_type": "code",
   "execution_count": 1,
   "id": "5cc4c810",
   "metadata": {
    "ExecuteTime": {
     "end_time": "2024-03-23T22:07:43.051680Z",
     "start_time": "2024-03-23T22:07:42.805461Z"
    }
   },
   "outputs": [],
   "source": [
    "from ipl_parser import IPLParser\n",
    "from cricket_data_processor import CricketDataProcessor\n",
    "from player_data import PlayerData"
   ]
  },
  {
   "cell_type": "code",
   "execution_count": 2,
   "id": "08ed4307",
   "metadata": {
    "ExecuteTime": {
     "end_time": "2024-03-23T22:07:44.871028Z",
     "start_time": "2024-03-23T22:07:44.852011Z"
    }
   },
   "outputs": [],
   "source": [
    "Input_Filepath = 'D:\\\\Datasets\\\\IPL_2024\\\\DC VS PBKS'\n",
    "Output_FilePath = 'D:\\\\Datasets\\\\IPL_2024\\\\Data Files'\n",
    "stadium = 'Maharaja Yadavindra Singh International Cricket Stadium, Mullanpur'\n",
    "\n",
    "parser = IPLParser(Input_Filepath, Output_FilePath,stadium,2)"
   ]
  },
  {
   "cell_type": "code",
   "execution_count": 3,
   "id": "6ad82bb7",
   "metadata": {
    "ExecuteTime": {
     "end_time": "2024-03-23T22:07:47.327559Z",
     "start_time": "2024-03-23T22:07:46.927206Z"
    }
   },
   "outputs": [],
   "source": [
    "data = parser.getMatchData()\n",
    "processor = CricketDataProcessor(data)\n",
    "\n",
    "mydata = processor.process_cricket_data()"
   ]
  },
  {
   "cell_type": "code",
   "execution_count": 4,
   "id": "d6b219e5",
   "metadata": {
    "ExecuteTime": {
     "end_time": "2024-03-23T22:07:49.642388Z",
     "start_time": "2024-03-23T22:07:49.631389Z"
    }
   },
   "outputs": [
    {
     "data": {
      "text/plain": "   match_number  innings            team  over  ball          Batter  \\\n0             2        1  Delhi Capitals     0     1    David Warner   \n1             2        1  Delhi Capitals     0     2  Mitchell Marsh   \n2             2        1  Delhi Capitals     0     3  Mitchell Marsh   \n3             2        1  Delhi Capitals     0     4  Mitchell Marsh   \n4             2        1  Delhi Capitals     0     5  Mitchell Marsh   \n\n       Bowler  Runs    Outcome  \\\n0  Sam Curran     1      1 run   \n1  Sam Curran     4  FOUR runs   \n2  Sam Curran     4  FOUR runs   \n3  Sam Curran     0     no run   \n4  Sam Curran     0     no run   \n\n                                            comments  \\\n0  no swing, gentle pace, dropped into the leg si...   \n1  this ball swings, and swings too far down leg....   \n2  down the leg side again, and Marsh says thank ...   \n3  walks at him, drives nicely, straight of mid-o...   \n4  walks at Curran, reaches the wide ball on the ...   \n\n                                               venue  \n0  Maharaja Yadavindra Singh International Cricke...  \n1  Maharaja Yadavindra Singh International Cricke...  \n2  Maharaja Yadavindra Singh International Cricke...  \n3  Maharaja Yadavindra Singh International Cricke...  \n4  Maharaja Yadavindra Singh International Cricke...  ",
      "text/html": "<div>\n<style scoped>\n    .dataframe tbody tr th:only-of-type {\n        vertical-align: middle;\n    }\n\n    .dataframe tbody tr th {\n        vertical-align: top;\n    }\n\n    .dataframe thead th {\n        text-align: right;\n    }\n</style>\n<table border=\"1\" class=\"dataframe\">\n  <thead>\n    <tr style=\"text-align: right;\">\n      <th></th>\n      <th>match_number</th>\n      <th>innings</th>\n      <th>team</th>\n      <th>over</th>\n      <th>ball</th>\n      <th>Batter</th>\n      <th>Bowler</th>\n      <th>Runs</th>\n      <th>Outcome</th>\n      <th>comments</th>\n      <th>venue</th>\n    </tr>\n  </thead>\n  <tbody>\n    <tr>\n      <th>0</th>\n      <td>2</td>\n      <td>1</td>\n      <td>Delhi Capitals</td>\n      <td>0</td>\n      <td>1</td>\n      <td>David Warner</td>\n      <td>Sam Curran</td>\n      <td>1</td>\n      <td>1 run</td>\n      <td>no swing, gentle pace, dropped into the leg si...</td>\n      <td>Maharaja Yadavindra Singh International Cricke...</td>\n    </tr>\n    <tr>\n      <th>1</th>\n      <td>2</td>\n      <td>1</td>\n      <td>Delhi Capitals</td>\n      <td>0</td>\n      <td>2</td>\n      <td>Mitchell Marsh</td>\n      <td>Sam Curran</td>\n      <td>4</td>\n      <td>FOUR runs</td>\n      <td>this ball swings, and swings too far down leg....</td>\n      <td>Maharaja Yadavindra Singh International Cricke...</td>\n    </tr>\n    <tr>\n      <th>2</th>\n      <td>2</td>\n      <td>1</td>\n      <td>Delhi Capitals</td>\n      <td>0</td>\n      <td>3</td>\n      <td>Mitchell Marsh</td>\n      <td>Sam Curran</td>\n      <td>4</td>\n      <td>FOUR runs</td>\n      <td>down the leg side again, and Marsh says thank ...</td>\n      <td>Maharaja Yadavindra Singh International Cricke...</td>\n    </tr>\n    <tr>\n      <th>3</th>\n      <td>2</td>\n      <td>1</td>\n      <td>Delhi Capitals</td>\n      <td>0</td>\n      <td>4</td>\n      <td>Mitchell Marsh</td>\n      <td>Sam Curran</td>\n      <td>0</td>\n      <td>no run</td>\n      <td>walks at him, drives nicely, straight of mid-o...</td>\n      <td>Maharaja Yadavindra Singh International Cricke...</td>\n    </tr>\n    <tr>\n      <th>4</th>\n      <td>2</td>\n      <td>1</td>\n      <td>Delhi Capitals</td>\n      <td>0</td>\n      <td>5</td>\n      <td>Mitchell Marsh</td>\n      <td>Sam Curran</td>\n      <td>0</td>\n      <td>no run</td>\n      <td>walks at Curran, reaches the wide ball on the ...</td>\n      <td>Maharaja Yadavindra Singh International Cricke...</td>\n    </tr>\n  </tbody>\n</table>\n</div>"
     },
     "execution_count": 4,
     "metadata": {},
     "output_type": "execute_result"
    }
   ],
   "source": [
    "mydata.head()"
   ]
  },
  {
   "cell_type": "code",
   "execution_count": 5,
   "id": "5ee2798a-e0ff-4015-87d7-7d64416f0f76",
   "metadata": {
    "ExecuteTime": {
     "end_time": "2024-03-23T20:32:55.703687Z",
     "start_time": "2024-03-23T20:32:55.690178Z"
    }
   },
   "outputs": [
    {
     "data": {
      "text/plain": "             Batter    Origin\n0      David Warner  Overseas\n1    Mitchell Marsh  Overseas\n2    Mitchell Marsh  Overseas\n3    Mitchell Marsh  Overseas\n4    Mitchell Marsh  Overseas\n..              ...       ...\n119   Abishek Porel    Indian\n120   Abishek Porel    Indian\n121   Abishek Porel    Indian\n122   Abishek Porel    Indian\n123   Abishek Porel    Indian\n\n[124 rows x 2 columns]",
      "text/html": "<div>\n<style scoped>\n    .dataframe tbody tr th:only-of-type {\n        vertical-align: middle;\n    }\n\n    .dataframe tbody tr th {\n        vertical-align: top;\n    }\n\n    .dataframe thead th {\n        text-align: right;\n    }\n</style>\n<table border=\"1\" class=\"dataframe\">\n  <thead>\n    <tr style=\"text-align: right;\">\n      <th></th>\n      <th>Batter</th>\n      <th>Origin</th>\n    </tr>\n  </thead>\n  <tbody>\n    <tr>\n      <th>0</th>\n      <td>David Warner</td>\n      <td>Overseas</td>\n    </tr>\n    <tr>\n      <th>1</th>\n      <td>Mitchell Marsh</td>\n      <td>Overseas</td>\n    </tr>\n    <tr>\n      <th>2</th>\n      <td>Mitchell Marsh</td>\n      <td>Overseas</td>\n    </tr>\n    <tr>\n      <th>3</th>\n      <td>Mitchell Marsh</td>\n      <td>Overseas</td>\n    </tr>\n    <tr>\n      <th>4</th>\n      <td>Mitchell Marsh</td>\n      <td>Overseas</td>\n    </tr>\n    <tr>\n      <th>...</th>\n      <td>...</td>\n      <td>...</td>\n    </tr>\n    <tr>\n      <th>119</th>\n      <td>Abishek Porel</td>\n      <td>Indian</td>\n    </tr>\n    <tr>\n      <th>120</th>\n      <td>Abishek Porel</td>\n      <td>Indian</td>\n    </tr>\n    <tr>\n      <th>121</th>\n      <td>Abishek Porel</td>\n      <td>Indian</td>\n    </tr>\n    <tr>\n      <th>122</th>\n      <td>Abishek Porel</td>\n      <td>Indian</td>\n    </tr>\n    <tr>\n      <th>123</th>\n      <td>Abishek Porel</td>\n      <td>Indian</td>\n    </tr>\n  </tbody>\n</table>\n<p>124 rows × 2 columns</p>\n</div>"
     },
     "execution_count": 5,
     "metadata": {},
     "output_type": "execute_result"
    }
   ],
   "source": [
    "mydata[mydata['innings'] == 1][['Batter','Origin']]"
   ]
  },
  {
   "cell_type": "code",
   "outputs": [],
   "source": [],
   "metadata": {
    "collapsed": false
   },
   "id": "61ddd00213ee90db"
  }
 ],
 "metadata": {
  "kernelspec": {
   "display_name": "Python 3 (ipykernel)",
   "language": "python",
   "name": "python3"
  },
  "language_info": {
   "codemirror_mode": {
    "name": "ipython",
    "version": 3
   },
   "file_extension": ".py",
   "mimetype": "text/x-python",
   "name": "python",
   "nbconvert_exporter": "python",
   "pygments_lexer": "ipython3",
   "version": "3.9.13"
  }
 },
 "nbformat": 4,
 "nbformat_minor": 5
}
