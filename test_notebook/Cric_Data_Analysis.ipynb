{
 "cells": [
  {
   "cell_type": "code",
   "execution_count": 1,
   "id": "688e628c",
   "metadata": {},
   "outputs": [],
   "source": [
    "import pandas as pd\n",
    "import numpy as np\n",
    "import seaborn as sns\n",
    "import matplotlib.pyplot as plt\n",
    "import re\n",
    "import warnings\n",
    "warnings.filterwarnings('ignore')\n",
    "from ipl_parser import IPLParser\n",
    "pd.set_option('display.max_rows', 200)"
   ]
  },
  {
   "cell_type": "code",
   "execution_count": 2,
   "id": "8a304bb4",
   "metadata": {},
   "outputs": [],
   "source": [
    "Input_Filepath = 'D:\\\\Datasets\\\\IPL_2024\\\\RCB VS CSK'\n",
    "Output_FilePath = 'D:\\\\Datasets\\\\IPL_2024\\\\Data Files'\n",
    "stadium = 'MA Chidambaram Stadium, Chepauk, Chennai'\n",
    "\n",
    "parser = IPLParser(Input_Filepath, Output_FilePath,stadium)"
   ]
  },
  {
   "cell_type": "code",
   "execution_count": 3,
   "id": "336817d9",
   "metadata": {},
   "outputs": [],
   "source": [
    "name_mapping = {\n",
    "    'Deshpande': 'Tushar Deshpande',\n",
    "    'Mustafizur': 'Mustafizur Rahman',\n",
    "    'Theekshana': 'Maheesh Theekshana',\n",
    "    'Chahar': 'Deepak Chahar',\n",
    "    'Jadeja': 'Ravindra Jadeja',\n",
    "    'Alzarri': 'Alzarri Joseph',\n",
    "    'Siraj': 'Mohammed Siraj',\n",
    "    'Green': 'Cameron Green',\n",
    "    'Maxwell': 'Glenn Maxwell',\n",
    "    'Dagar': 'Mayank Dagar',\n",
    "    'Karn': 'Karn Sharma',\n",
    "    'Yash': 'Yash Dayal',\n",
    "    'Karthik': 'Dinesh Karthik',\n",
    "    'Rawat': 'Anuj Rawat',\n",
    "    'Kohli': 'Virat Kohli',\n",
    "    'Patidar': 'Rajat Patidar',\n",
    "    'du': 'Faf du Plessis',\n",
    "    'Dube': 'Shivam Dube',\n",
    "    'Mitchell': 'Daryl Mitchell',\n",
    "    'Rahane': 'Ajinkya Rahane',\n",
    "    'Ravindra': 'Rachin Ravindra',\n",
    "    'Gaikwad': 'Ruturaj Gaikwad'\n",
    "}\n",
    "\n",
    "\n",
    "player_details = {\n",
    "    'Tushar Deshpande': {'batting_side': 'Right-handed', 'bowling_side': 'Right-arm fast-medium'},\n",
    "    'Mustafizur Rahman': {'batting_side': 'Left-handed', 'bowling_side': 'Left-arm fast-medium'},\n",
    "    'Maheesh Theekshana': {'batting_side': 'Right-handed', 'bowling_side': 'Right-arm leg-spin'},\n",
    "    'Deepak Chahar': {'batting_side': 'Right-handed', 'bowling_side': 'Right-arm medium-fast'},\n",
    "    'Ravindra Jadeja': {'batting_side': 'Left-handed', 'bowling_side': 'Left-arm orthodox'},\n",
    "    'Alzarri Joseph': {'batting_side': 'Right-handed', 'bowling_side': 'Right-arm fast'},\n",
    "    'Mohammed Siraj': {'batting_side': 'Right-handed', 'bowling_side': 'Right-arm fast-medium'},\n",
    "    'Cameron Green': {'batting_side': 'Right-handed', 'bowling_side': 'Right-arm fast-medium'},\n",
    "    'Glenn Maxwell': {'batting_side': 'Right-handed', 'bowling_side': 'Right-arm off-spin'},\n",
    "    'Mayank Dagar': {'batting_side': 'Left-handed', 'bowling_side': 'Slow left-arm orthodox'},\n",
    "    'Karn Sharma': {'batting_side': 'Right-handed', 'bowling_side': 'Right-arm leg-spin'},\n",
    "    'Yash Dayal': {'batting_side': 'Right-handed', 'bowling_side': 'Right-arm medium'},\n",
    "    'Dinesh Karthik': {'batting_side': 'Right-handed', 'bowling_side': 'Right-arm off-spin'},\n",
    "    'Anuj Rawat': {'batting_side': 'Right-handed', 'bowling_side': 'None'},\n",
    "    'Virat Kohli': {'batting_side': 'Right-handed', 'bowling_side': 'Right-arm medium'},\n",
    "    'Rajat Patidar': {'batting_side': 'Right-handed', 'bowling_side': 'Right-arm medium'},\n",
    "    'Faf du Plessis': {'batting_side': 'Right-handed', 'bowling_side': 'Right-arm leg-spin'},\n",
    "    'Shivam Dube': {'batting_side': 'Left-handed', 'bowling_side': 'Right-arm medium-fast'},\n",
    "    'Daryl Mitchell': {'batting_side': 'Right-handed', 'bowling_side': 'Right-arm medium-fast'},\n",
    "    'Ajinkya Rahane': {'batting_side': 'Right-handed', 'bowling_side': 'Right-arm medium'},\n",
    "    'Rachin Ravindra': {'batting_side': 'Left-handed', 'bowling_side': 'Slow left-arm orthodox'},\n",
    "    'Ruturaj Gaikwad': {'batting_side': 'Right-handed', 'bowling_side': 'Right-arm off-spin'}\n",
    "}\n",
    "\n",
    "number_mapping = {\n",
    "    'W' : '0',\n",
    "    '•' : '0'\n",
    "}"
   ]
  },
  {
   "cell_type": "code",
   "execution_count": 4,
   "id": "758c72ed",
   "metadata": {},
   "outputs": [],
   "source": [
    "mydata = parser.getMatchData()"
   ]
  },
  {
   "cell_type": "code",
   "execution_count": 5,
   "id": "66d3b3a9",
   "metadata": {},
   "outputs": [
    {
     "data": {
      "text/plain": [
       "(249, 6)"
      ]
     },
     "execution_count": 5,
     "metadata": {},
     "output_type": "execute_result"
    }
   ],
   "source": [
    "mydata.shape"
   ]
  },
  {
   "cell_type": "code",
   "execution_count": 6,
   "id": "950deff3",
   "metadata": {},
   "outputs": [],
   "source": [
    "def get_bowler_batter_outcom(x):\n",
    "    return re.search(r'^\\w+', x).group() , re.search(r'to\\s+(\\w+)', x).group(1) , re.search(r'<span>(.*?)<\\/span>', x).group(1)\\\n",
    "\n",
    "def get_ball_details(x):\n",
    "    return re.search(r'<span>(.*?)<\\/span>', str(x)).group(1)"
   ]
  },
  {
   "cell_type": "code",
   "execution_count": 7,
   "id": "d6212f51",
   "metadata": {},
   "outputs": [],
   "source": [
    "mydata[['Bowler','Batter','Outcome']] = mydata['batter_bowler'].apply(lambda x : pd.Series(get_bowler_batter_outcom(x)))\n",
    "\n",
    "mydata['Runs'] = mydata['ball_details'].apply(lambda x : get_ball_details(x))\n",
    "\n",
    "mydata[['Batter','Bowler']] = mydata[['Batter','Bowler']].replace(name_mapping)"
   ]
  },
  {
   "cell_type": "code",
   "execution_count": 8,
   "id": "47e5973a",
   "metadata": {},
   "outputs": [],
   "source": [
    "mydata['Batting Style'] = ''\n",
    "mydata['Bowling Style'] = ''\n",
    "\n",
    "for index, row in mydata.iterrows():\n",
    "    batter_name = row['Batter']\n",
    "    bowler_name = row['Bowler']\n",
    "    \n",
    "    if batter_name in player_details:\n",
    "        mydata.loc[index, 'Batting Style'] = player_details[batter_name]['batting_side']\n",
    "    if bowler_name in player_details:\n",
    "        mydata.loc[index, 'Bowling Style'] = player_details[bowler_name]['bowling_side']"
   ]
  },
  {
   "cell_type": "code",
   "execution_count": 9,
   "id": "b486e17b",
   "metadata": {},
   "outputs": [],
   "source": [
    "mydata['Runs'] = mydata['Runs'].replace(number_mapping)\n",
    "\n",
    "mydata['Runs'] = mydata['Runs'].str.replace('[A-Za-z]', '')\n",
    "\n",
    "mydata['Runs'] = mydata['Runs'].apply(lambda x : int(x))\n",
    "\n",
    "mydata['ball'] = mydata['overs'].apply(lambda x : int(x.split('.')[1]))\n",
    "\n",
    "mydata['over'] = mydata['overs'].apply(lambda x : int(x.split('.')[0]))"
   ]
  },
  {
   "cell_type": "code",
   "execution_count": 10,
   "id": "69d6ca87",
   "metadata": {},
   "outputs": [],
   "source": [
    "mydata.drop(columns=['ball_details','batter_bowler','overs'],inplace=True)\n",
    "\n",
    "mydata = mydata[['innings','over','ball','Batter','Bowler','Runs','Outcome','Batting Style','Bowling Style','comments','venue']]\n",
    "\n",
    "mydata.sort_values(by=['innings','over','ball'],ignore_index = True , inplace=True)"
   ]
  },
  {
   "cell_type": "code",
   "execution_count": 25,
   "id": "cbcbf38c",
   "metadata": {},
   "outputs": [],
   "source": [
    "#mydata.to_csv('D:\\\\Datasets\\\\IPL_2024\\\\Data Files\\\\Clean_Data\\\\RCB_VS_CSK.csv',index=False)"
   ]
  },
  {
   "cell_type": "code",
   "execution_count": null,
   "id": "55dba1c4",
   "metadata": {},
   "outputs": [],
   "source": []
  },
  {
   "cell_type": "code",
   "execution_count": 17,
   "id": "d19cd22b",
   "metadata": {},
   "outputs": [],
   "source": []
  },
  {
   "cell_type": "code",
   "execution_count": null,
   "id": "cf4bbf8c",
   "metadata": {},
   "outputs": [],
   "source": []
  },
  {
   "cell_type": "code",
   "execution_count": null,
   "id": "baf5e020",
   "metadata": {},
   "outputs": [],
   "source": []
  },
  {
   "cell_type": "code",
   "execution_count": null,
   "id": "52d83d61",
   "metadata": {},
   "outputs": [],
   "source": []
  },
  {
   "cell_type": "code",
   "execution_count": null,
   "id": "77f97709",
   "metadata": {},
   "outputs": [],
   "source": []
  },
  {
   "cell_type": "code",
   "execution_count": null,
   "id": "ee117de5",
   "metadata": {},
   "outputs": [],
   "source": []
  },
  {
   "cell_type": "code",
   "execution_count": null,
   "id": "4f5ba615",
   "metadata": {},
   "outputs": [],
   "source": []
  },
  {
   "cell_type": "code",
   "execution_count": null,
   "id": "37766a1b",
   "metadata": {},
   "outputs": [],
   "source": []
  },
  {
   "cell_type": "code",
   "execution_count": null,
   "id": "1477179a",
   "metadata": {},
   "outputs": [],
   "source": []
  },
  {
   "cell_type": "code",
   "execution_count": null,
   "id": "37922237",
   "metadata": {},
   "outputs": [],
   "source": []
  }
 ],
 "metadata": {
  "kernelspec": {
   "display_name": "Python 3 (ipykernel)",
   "language": "python",
   "name": "python3"
  },
  "language_info": {
   "codemirror_mode": {
    "name": "ipython",
    "version": 3
   },
   "file_extension": ".py",
   "mimetype": "text/x-python",
   "name": "python",
   "nbconvert_exporter": "python",
   "pygments_lexer": "ipython3",
   "version": "3.11.3"
  }
 },
 "nbformat": 4,
 "nbformat_minor": 5
}
