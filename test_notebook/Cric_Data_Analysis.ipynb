{
 "cells": [
  {
   "cell_type": "code",
   "execution_count": null,
   "id": "688e628c",
   "metadata": {},
   "outputs": [],
   "source": [
    "import pandas as pd\n",
    "import re\n",
    "import warnings\n",
    "warnings.filterwarnings('ignore')\n",
    "from ipl_parser import IPLParser\n",
    "pd.set_option('display.max_rows', 200)\n",
    "from player_details import player_details\n",
    "from number_mapping import number_mapping\n",
    "from name_mapping import name_mapping"
   ]
  },
  {
   "cell_type": "code",
   "execution_count": null,
   "id": "8a304bb4",
   "metadata": {},
   "outputs": [],
   "source": [
    "Input_Filepath = 'D:\\\\Datasets\\\\IPL_2024\\\\KKR VS SRH'\n",
    "Output_FilePath = 'D:\\\\Datasets\\\\IPL_2024\\\\Data Files'\n",
    "stadium = 'Eden Gardens, Kolkata'\n",
    "\n",
    "parser = IPLParser(Input_Filepath, Output_FilePath,stadium,3)"
   ]
  },
  {
   "cell_type": "code",
   "execution_count": null,
   "id": "758c72ed",
   "metadata": {},
   "outputs": [],
   "source": [
    "mydata = parser.getMatchData()"
   ]
  },
  {
   "cell_type": "code",
   "execution_count": null,
   "id": "66d3b3a9",
   "metadata": {},
   "outputs": [],
   "source": [
    "mydata.shape"
   ]
  },
  {
   "cell_type": "code",
   "execution_count": null,
   "id": "950deff3",
   "metadata": {},
   "outputs": [],
   "source": [
    "def get_bowler_batter_outcom(x):\n",
    "    return re.search(r'(\\w+\\s?\\w*)\\s+to', x).group().replace('to','').strip() , re.search(r'to\\s+([\\w\\s]+)', x).group(1) , re.search(r'<span>(.*?)<\\/span>', x).group(1)\\\n",
    "\n",
    "def get_ball_details(x):\n",
    "    return re.search(r'<span>(.*?)<\\/span>', str(x)).group(1)"
   ]
  },
  {
   "cell_type": "code",
   "execution_count": null,
   "id": "d6212f51",
   "metadata": {},
   "outputs": [],
   "source": [
    "mydata[['Bowler','Batter','Outcome']] = mydata['batter_bowler'].apply(lambda x : pd.Series(get_bowler_batter_outcom(x)))\n",
    "\n",
    "mydata['Runs'] = mydata['ball_details'].apply(lambda x : get_ball_details(x))"
   ]
  },
  {
   "cell_type": "code",
   "outputs": [],
   "source": [
    "mydata['Batter'].unique()"
   ],
   "metadata": {
    "collapsed": false
   },
   "id": "cb04988765ce649a",
   "execution_count": null
  },
  {
   "cell_type": "code",
   "outputs": [],
   "source": [
    "mydata['Bowler'].unique()"
   ],
   "metadata": {
    "collapsed": false
   },
   "id": "6a6c96108ef1182a",
   "execution_count": null
  },
  {
   "cell_type": "code",
   "outputs": [],
   "source": [
    "mydata[['Batter','Bowler']] = mydata[['Batter','Bowler']].replace(name_mapping)"
   ],
   "metadata": {
    "collapsed": false
   },
   "id": "1d7a97ca3c12a6c1",
   "execution_count": null
  },
  {
   "cell_type": "code",
   "outputs": [],
   "source": [
    "mydata[['Bowler','Batter']]"
   ],
   "metadata": {
    "collapsed": false
   },
   "id": "aa92a48e3a502165",
   "execution_count": null
  },
  {
   "cell_type": "code",
   "execution_count": null,
   "id": "47e5973a",
   "metadata": {},
   "outputs": [],
   "source": [
    "mydata['Batting Style'] = ''\n",
    "mydata['Bowling Style'] = ''\n",
    "mydata['Origin'] = ''\n",
    "\n",
    "for index, row in mydata.iterrows():\n",
    "    batter_name = row['Batter']\n",
    "    bowler_name = row['Bowler']\n",
    "    \n",
    "    if batter_name in player_details:\n",
    "        mydata.loc[index, 'Batting Style'] = player_details[batter_name]['batting_side']\n",
    "        mydata.loc[index, 'Origin'] = 'Indian' if 'Indian' in player_details[batter_name]['Origin'] else 'Overseas'\n",
    "    if bowler_name in player_details:\n",
    "        mydata.loc[index, 'Bowling Style'] = player_details[bowler_name]['bowling_side']\n",
    "        mydata.loc[index, 'Origin'] = 'Indian' if 'Indian' in player_details[bowler_name]['Origin'] else 'Overseas'"
   ]
  },
  {
   "cell_type": "code",
   "outputs": [],
   "source": [
    "mydata.head(100)"
   ],
   "metadata": {
    "collapsed": false
   },
   "id": "23ae313dafd5d817",
   "execution_count": null
  },
  {
   "cell_type": "code",
   "execution_count": null,
   "id": "b486e17b",
   "metadata": {},
   "outputs": [],
   "source": [
    "mydata['Runs'] = mydata['Runs'].replace(number_mapping)\n",
    "\n",
    "mydata['Runs'] = mydata['Runs'].str.replace('[A-Za-z]', '')\n",
    "\n",
    "mydata['Runs'] = mydata['Runs'].apply(lambda x : int(x))\n",
    "\n",
    "mydata['ball'] = mydata['overs'].apply(lambda x : int(x.split('.')[1]))\n",
    "\n",
    "mydata['over'] = mydata['overs'].apply(lambda x : int(x.split('.')[0]))"
   ]
  },
  {
   "cell_type": "code",
   "execution_count": null,
   "id": "69d6ca87",
   "metadata": {},
   "outputs": [],
   "source": [
    "mydata.drop(columns=['ball_details','batter_bowler','overs'],inplace=True)\n",
    "\n",
    "mydata = mydata[['innings','over','ball','Batter','Bowler','Runs','Outcome','Batting Style','Bowling Style','comments','venue']]\n",
    "\n",
    "mydata.sort_values(by=['innings','over','ball'],ignore_index = True , inplace=True)"
   ]
  },
  {
   "cell_type": "code",
   "execution_count": null,
   "id": "cbcbf38c",
   "metadata": {},
   "outputs": [],
   "source": [
    "#mydata.to_csv('D:\\\\Datasets\\\\IPL_2024\\\\Data Files\\\\Clean_Data\\\\RCB_VS_CSK.csv',index=False)"
   ]
  },
  {
   "cell_type": "code",
   "execution_count": null,
   "id": "55dba1c4",
   "metadata": {},
   "outputs": [],
   "source": []
  },
  {
   "cell_type": "code",
   "execution_count": null,
   "id": "d19cd22b",
   "metadata": {},
   "outputs": [],
   "source": []
  },
  {
   "cell_type": "code",
   "execution_count": null,
   "id": "cf4bbf8c",
   "metadata": {},
   "outputs": [],
   "source": []
  },
  {
   "cell_type": "code",
   "execution_count": null,
   "id": "baf5e020",
   "metadata": {},
   "outputs": [],
   "source": []
  },
  {
   "cell_type": "code",
   "execution_count": null,
   "id": "52d83d61",
   "metadata": {},
   "outputs": [],
   "source": []
  },
  {
   "cell_type": "code",
   "execution_count": null,
   "id": "77f97709",
   "metadata": {},
   "outputs": [],
   "source": []
  },
  {
   "cell_type": "code",
   "execution_count": null,
   "id": "ee117de5",
   "metadata": {},
   "outputs": [],
   "source": []
  },
  {
   "cell_type": "code",
   "execution_count": null,
   "id": "4f5ba615",
   "metadata": {},
   "outputs": [],
   "source": []
  },
  {
   "cell_type": "code",
   "execution_count": null,
   "id": "37766a1b",
   "metadata": {},
   "outputs": [],
   "source": []
  },
  {
   "cell_type": "code",
   "execution_count": null,
   "id": "1477179a",
   "metadata": {},
   "outputs": [],
   "source": []
  },
  {
   "cell_type": "code",
   "execution_count": null,
   "id": "37922237",
   "metadata": {},
   "outputs": [],
   "source": []
  }
 ],
 "metadata": {
  "kernelspec": {
   "display_name": "Python 3 (ipykernel)",
   "language": "python",
   "name": "python3"
  },
  "language_info": {
   "codemirror_mode": {
    "name": "ipython",
    "version": 3
   },
   "file_extension": ".py",
   "mimetype": "text/x-python",
   "name": "python",
   "nbconvert_exporter": "python",
   "pygments_lexer": "ipython3",
   "version": "3.11.3"
  }
 },
 "nbformat": 4,
 "nbformat_minor": 5
}
