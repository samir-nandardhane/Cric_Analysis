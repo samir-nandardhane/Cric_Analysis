{
 "cells": [
  {
   "cell_type": "code",
   "execution_count": 1,
   "id": "972da7bd",
   "metadata": {},
   "outputs": [],
   "source": [
    "import requests\n",
    "from bs4 import BeautifulSoup\n",
    "import re\n",
    "import pandas as pd\n",
    "import os"
   ]
  },
  {
   "cell_type": "code",
   "execution_count": 2,
   "id": "1ac94c98",
   "metadata": {},
   "outputs": [],
   "source": [
    "Input_Filepath = 'D:\\\\Datasets\\\\IPL_2024\\\\RCB VS CSK'\n",
    "\n",
    "OutputFilePath = 'D:\\Datasets\\IPL_2024\\Data Files'"
   ]
  },
  {
   "cell_type": "code",
   "execution_count": 5,
   "id": "8bf0c378",
   "metadata": {},
   "outputs": [],
   "source": [
    "# Define Data\n",
    "\n",
    "pattern = r'<p class=\"ci-html-content\">(.*?)<\\/p>' # comment\n",
    "\n",
    "pattern_span = r'<span class=\"ds-text-tight-s ds-font-regular ds-mb-1 lg:ds-mb-0 lg:ds-mr-3 ds-block ds-text-center ds-text-typo-mid1\">(.*?)<\\/span>'\n",
    " # Over ball\n",
    "\n",
    "pattern_div = r'<div class=\"ds-leading-none ds-mb-0.5\"><span>(.*?)<\\/span><\\/div>' # runs and bolwer and batter name\n",
    "\n",
    "pattern_div_new = r'<div class=\"[^\"]*\">(<span>[^<]*</span>)</div>'\n",
    "\n",
    "def getDatafromHtml(soupe):\n",
    "    overs = []\n",
    "    ball_details = []\n",
    "    comem = []\n",
    "    batter_Bolwer = []\n",
    "    text = soupe.find_all('div',class_='lg:hover:ds-bg-ui-fill-translucent ds-hover-parent ds-relative')\n",
    "    for x in text:\n",
    "        try:\n",
    "            overs.append(re.search(pattern_span, str(x), re.DOTALL).group(1).strip())\n",
    "            ball_details.append(re.search(pattern_div_new, str(x), re.DOTALL).groups())\n",
    "            comem.append(re.search(pattern, str(x), re.DOTALL).group(1).strip())\n",
    "            batter_Bolwer.append(re.search(pattern_div, str(x), re.DOTALL).group(1).strip())\n",
    "        except Exception as e:\n",
    "            comem.append(\"No commentry\")\n",
    "    \n",
    "    data = {\n",
    "    'overs': overs,\n",
    "    'ball_details': ball_details,\n",
    "    'comem': comem,\n",
    "    'Batter_Bolwer' : batter_Bolwer\n",
    "    }\n",
    "    \n",
    "    return pd.DataFrame(data)\n",
    "\n",
    "def parse_html(filename, encoding='utf-8'):\n",
    "    with open(filename, 'r', encoding=encoding) as f:\n",
    "        soup = BeautifulSoup(f, 'html.parser')\n",
    "    return soup\n",
    "\n",
    "def IncludeInng(data, inngs,venue):\n",
    "    if inngs == 1:\n",
    "        return data.assign(innings=inngs,venue=venue)\n",
    "    else:\n",
    "        return data.assign(innings=inngs,venue=venue)\n",
    "    \n",
    "    \n",
    "def getData(filename,inngs,venu):\n",
    "    data = getDatafromHtml(parse_html(filename))\n",
    "    return IncludeInng(data,inngs,venu)\n",
    "\n",
    "\n",
    "def getMatchData(filename1,filename2,venue):\n",
    "    df = pd.concat(\n",
    "        [\n",
    "            getData(filename1,1,venue),\n",
    "            getData(filename2,2,venue)\n",
    "        ],\n",
    "        ignore_index=True\n",
    "    )\n",
    "    return df\n",
    "\n",
    "\n",
    "def getfiles():\n",
    "    os.chdir(Input_Filepath)\n",
    "    return [file for file in os.listdir() if file.endswith(\".html\")]\n",
    "\n",
    "\n",
    "def WriteDataToFile(File1,File2,venue,filename):\n",
    "    os.chdir(Input_Filepath)\n",
    "    getMatchData(File1,File2,venue).to_csv(os.path.join(OutputFilePath, filename),index=False)"
   ]
  },
  {
   "cell_type": "code",
   "execution_count": 6,
   "id": "1920497d",
   "metadata": {},
   "outputs": [
    {
     "data": {
      "text/plain": [
       "['First_Innings_RCB.html', 'Second_Innings_CSK_Files.html']"
      ]
     },
     "execution_count": 6,
     "metadata": {},
     "output_type": "execute_result"
    }
   ],
   "source": [
    "getfiles()"
   ]
  },
  {
   "cell_type": "code",
   "execution_count": null,
   "id": "9272d5cc",
   "metadata": {},
   "outputs": [],
   "source": [
    "\"\"\"\"\n",
    "soup = parse_html('First_Innings_RCB.html')\n",
    "\n",
    "text = soup.find_all('div',class_='lg:hover:ds-bg-ui-fill-translucent ds-hover-parent ds-relative')\n",
    "\n",
    "for x in text:\n",
    "    print(re.search(pattern_span, str(x), re.DOTALL).group(1).strip())\n",
    "    print(re.search(pattern_div_new, str(x), re.DOTALL).groups())\n",
    "    print(re.search(pattern, str(x), re.DOTALL).group(1).strip())\n",
    "    print(re.search(pattern_div, str(x), re.DOTALL).group(1).strip())\n",
    "    \n",
    "\"\"\"\""
   ]
  },
  {
   "cell_type": "code",
   "execution_count": 8,
   "id": "9788d5a1",
   "metadata": {},
   "outputs": [],
   "source": [
    "WriteDataToFile('First_Innings_RCB.html','Second_Innings_CSK_Files.html','MA Chidambaram Stadium, Chepauk, Chennai','RCB_vs_CSK.csv')"
   ]
  },
  {
   "cell_type": "code",
   "execution_count": null,
   "id": "ee598d1b",
   "metadata": {},
   "outputs": [],
   "source": []
  },
  {
   "cell_type": "code",
   "execution_count": null,
   "id": "c6d2976b",
   "metadata": {},
   "outputs": [],
   "source": []
  }
 ],
 "metadata": {
  "kernelspec": {
   "display_name": "Python 3 (ipykernel)",
   "language": "python",
   "name": "python3"
  },
  "language_info": {
   "codemirror_mode": {
    "name": "ipython",
    "version": 3
   },
   "file_extension": ".py",
   "mimetype": "text/x-python",
   "name": "python",
   "nbconvert_exporter": "python",
   "pygments_lexer": "ipython3",
   "version": "3.11.3"
  }
 },
 "nbformat": 4,
 "nbformat_minor": 5
}
